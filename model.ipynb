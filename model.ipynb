{
 "cells": [
  {
   "cell_type": "code",
   "execution_count": null,
   "metadata": {
    "id": "aOEYqKPgmijk",
    "outputId": "cbde02d0-cdb8-4d07-d221-34376c3c4c14"
   },
   "outputs": [
    {
     "name": "stdout",
     "output_type": "stream",
     "text": [
      "Collecting torch\n",
      "  Downloading torch-2.6.0-cp312-none-macosx_11_0_arm64.whl.metadata (28 kB)\n",
      "Collecting filelock (from torch)\n",
      "  Downloading filelock-3.17.0-py3-none-any.whl.metadata (2.9 kB)\n",
      "Requirement already satisfied: typing-extensions>=4.10.0 in /opt/anaconda3/envs/nyu-1001/lib/python3.12/site-packages (from torch) (4.12.2)\n",
      "Collecting networkx (from torch)\n",
      "  Downloading networkx-3.4.2-py3-none-any.whl.metadata (6.3 kB)\n",
      "Requirement already satisfied: jinja2 in /opt/anaconda3/envs/nyu-1001/lib/python3.12/site-packages (from torch) (3.1.4)\n",
      "Collecting fsspec (from torch)\n",
      "  Downloading fsspec-2025.2.0-py3-none-any.whl.metadata (11 kB)\n",
      "Requirement already satisfied: setuptools in /opt/anaconda3/envs/nyu-1001/lib/python3.12/site-packages (from torch) (72.1.0)\n",
      "Collecting sympy==1.13.1 (from torch)\n",
      "  Downloading sympy-1.13.1-py3-none-any.whl.metadata (12 kB)\n",
      "Collecting mpmath<1.4,>=1.1.0 (from sympy==1.13.1->torch)\n",
      "  Downloading mpmath-1.3.0-py3-none-any.whl.metadata (8.6 kB)\n",
      "Requirement already satisfied: MarkupSafe>=2.0 in /opt/anaconda3/envs/nyu-1001/lib/python3.12/site-packages (from jinja2->torch) (2.1.3)\n",
      "Downloading torch-2.6.0-cp312-none-macosx_11_0_arm64.whl (66.5 MB)\n",
      "\u001b[2K   \u001b[90m━━━━━━━━━━━━━━━━━━━━━━━━━━━━━━━━━━━━━━━━\u001b[0m \u001b[32m66.5/66.5 MB\u001b[0m \u001b[31m42.6 MB/s\u001b[0m eta \u001b[36m0:00:00\u001b[0ma \u001b[36m0:00:01\u001b[0m\n",
      "\u001b[?25hDownloading sympy-1.13.1-py3-none-any.whl (6.2 MB)\n",
      "\u001b[2K   \u001b[90m━━━━━━━━━━━━━━━━━━━━━━━━━━━━━━━━━━━━━━━━\u001b[0m \u001b[32m6.2/6.2 MB\u001b[0m \u001b[31m49.5 MB/s\u001b[0m eta \u001b[36m0:00:00\u001b[0m\n",
      "\u001b[?25hDownloading filelock-3.17.0-py3-none-any.whl (16 kB)\n",
      "Downloading fsspec-2025.2.0-py3-none-any.whl (184 kB)\n",
      "Downloading networkx-3.4.2-py3-none-any.whl (1.7 MB)\n",
      "\u001b[2K   \u001b[90m━━━━━━━━━━━━━━━━━━━━━━━━━━━━━━━━━━━━━━━━\u001b[0m \u001b[32m1.7/1.7 MB\u001b[0m \u001b[31m64.9 MB/s\u001b[0m eta \u001b[36m0:00:00\u001b[0m\n",
      "\u001b[?25hDownloading mpmath-1.3.0-py3-none-any.whl (536 kB)\n",
      "\u001b[2K   \u001b[90m━━━━━━━━━━━━━━━━━━━━━━━━━━━━━━━━━━━━━━━━\u001b[0m \u001b[32m536.2/536.2 kB\u001b[0m \u001b[31m34.1 MB/s\u001b[0m eta \u001b[36m0:00:00\u001b[0m\n",
      "\u001b[?25hInstalling collected packages: mpmath, sympy, networkx, fsspec, filelock, torch\n",
      "Successfully installed filelock-3.17.0 fsspec-2025.2.0 mpmath-1.3.0 networkx-3.4.2 sympy-1.13.1 torch-2.6.0\n",
      "Note: you may need to restart the kernel to use updated packages.\n"
     ]
    }
   ],
   "source": [
    "pip install torch install torchvision transformers timm fairscale imageio 'imageio[ffmpeg]' opencv-python"
   ]
  },
  {
   "cell_type": "code",
   "execution_count": 1,
   "metadata": {
    "executionInfo": {
     "elapsed": 492,
     "status": "ok",
     "timestamp": 1739692740230,
     "user": {
      "displayName": "Hang Liu",
      "userId": "17557702617826436746"
     },
     "user_tz": 480
    },
    "id": "sTlxpHz6mijm"
   },
   "outputs": [],
   "source": [
    "import cv2\n",
    "import imageio\n",
    "\n",
    "def extract_frames(video_path, frame_rate=1):\n",
    "    cap = cv2.VideoCapture(video_path)\n",
    "    frame_list = []\n",
    "    fps = cap.get(cv2.CAP_PROP_FPS)\n",
    "    frame_interval = int(fps / frame_rate)\n",
    "\n",
    "    frame_count = 0\n",
    "    while cap.isOpened():\n",
    "        ret, frame = cap.read()\n",
    "        if not ret:\n",
    "            break\n",
    "        if frame_count % frame_interval == 0:\n",
    "            frame_rgb = cv2.cvtColor(frame, cv2.COLOR_BGR2RGB)\n",
    "            frame_list.append(frame_rgb)\n",
    "        frame_count += 1\n",
    "    cap.release()\n",
    "    return frame_list"
   ]
  },
  {
   "cell_type": "code",
   "execution_count": 2,
   "metadata": {
    "colab": {
     "base_uri": "https://localhost:8080/"
    },
    "executionInfo": {
     "elapsed": 20247,
     "status": "ok",
     "timestamp": 1739692767802,
     "user": {
      "displayName": "Hang Liu",
      "userId": "17557702617826436746"
     },
     "user_tz": 480
    },
    "id": "1QR4VmOenAM4",
    "outputId": "2cec425e-fc89-4b24-8ad5-1affc7e1ef3c"
   },
   "outputs": [
    {
     "name": "stdout",
     "output_type": "stream",
     "text": [
      "Mounted at /content/drive\n"
     ]
    }
   ],
   "source": [
    "from google.colab import drive\n",
    "drive.mount('/content/drive')"
   ]
  },
  {
   "cell_type": "code",
   "execution_count": 22,
   "metadata": {
    "colab": {
     "base_uri": "https://localhost:8080/"
    },
    "executionInfo": {
     "elapsed": 6945,
     "status": "ok",
     "timestamp": 1739693547554,
     "user": {
      "displayName": "Hang Liu",
      "userId": "17557702617826436746"
     },
     "user_tz": 480
    },
    "id": "S5EUwK70m358",
    "outputId": "ce7963f7-7f58-459d-cf09-41fdd9ca0dc9"
   },
   "outputs": [
    {
     "name": "stdout",
     "output_type": "stream",
     "text": [
      "Extracted 60 frames.\n"
     ]
    }
   ],
   "source": [
    "video_path = '/content/drive/MyDrive/tesla/tesla-real-world-video-q-a/videos/videos/00001.mp4'\n",
    "frames = extract_frames(video_path, frame_rate=10)\n",
    "print(f\"Extracted {len(frames)} frames.\")"
   ]
  },
  {
   "cell_type": "code",
   "execution_count": null,
   "metadata": {
    "colab": {
     "base_uri": "https://localhost:8080/"
    },
    "executionInfo": {
     "elapsed": 5346,
     "status": "ok",
     "timestamp": 1739691676171,
     "user": {
      "displayName": "hang liu",
      "userId": "05055027667026502590"
     },
     "user_tz": 480
    },
    "id": "OVe3JZxzGuCV",
    "outputId": "61fc3f0e-1fe7-409b-bb34-2bdf90c4f6e1"
   },
   "outputs": [
    {
     "name": "stdout",
     "output_type": "stream",
     "text": [
      "Extracted 5 frames.\n"
     ]
    }
   ],
   "source": [
    "caption_frames = extract_frames(video_path, frame_rate=1)\n",
    "print(f\"Extracted {len(caption_frames)} frames.\")"
   ]
  },
  {
   "cell_type": "code",
   "execution_count": 23,
   "metadata": {
    "colab": {
     "base_uri": "https://localhost:8080/"
    },
    "executionInfo": {
     "elapsed": 30922,
     "status": "ok",
     "timestamp": 1739693579956,
     "user": {
      "displayName": "Hang Liu",
      "userId": "17557702617826436746"
     },
     "user_tz": 480
    },
    "id": "9NaqkjVJmijm",
    "outputId": "cc9e2969-e3f9-4812-9b52-719afb9ff3bd"
   },
   "outputs": [
    {
     "name": "stdout",
     "output_type": "stream",
     "text": [
      "Detailed Video Description: cars are driving down a road with construction cones on both sides cars are driving down a road with construction cones on both sides cars are driving down a road with construction cones on both sides cars are driving down a road with construction cones on both sides cars are driving down a road with construction cones on both sides there is a white car driving down the road with orange cones there is a white car driving down the road with orange cones there is a white car driving down the road with orange cones there is a white car driving down the road with orange cones there is a white car driving down the road with orange cones there is a white car driving down the road with orange cones there is a white car driving down the road with orange cones there is a white car driving down the road with orange cones there is a white car driving down the road with orange cones there is a white car driving down the road with orange cones there is a white car driving down the road with orange cones there is a white car driving down the road with orange cones there is a white car driving down the road with orange cones cars driving down a road with construction cones and a road sign there is a white car driving down the road with orange cones there is a white car driving down the road with orange cones there is a white car driving down the road with orange cones cars driving down a road with construction cones on both sides cars are driving down a road with construction cones on both sides cars are driving down a road with construction cones on both sides cars are driving down a street with construction cones on the side cars are driving down a street with construction cones on the side cars are driving down a road with orange cones on the side cars are parked on the side of the road near a construction site cars are driving down a street with construction cones on the side cars are parked on the side of the road near a construction site cars are parked on the side of the road near a construction site cars are parked on the side of the road near a construction site cars are parked on the side of the road near a construction site cars are driving down a road with construction cones on the side there are many cars driving down the road near a construction site cars are parked on the side of the road near a construction site there are many cars driving down the road near a construction site there are many cars driving down the road with orange cones there are many cars driving down the road with orange cones there are many cars that are driving down the road there are many traffic cones on the side of the road there are many traffic cones on the side of the road there are many cars that are driving down the road there are many cars that are parked on the side of the road there are many cars that are parked on the side of the road there are many cars that are driving down the road cars are parked on the side of the road near a construction site cars are parked on the side of the road near a construction site cars are parked on the side of the road near a construction site cars are parked on the side of the road near a construction site cars are parked on the side of the road near a construction site cars are parked on the side of the road near a construction site cars are parked on the side of the road near a construction site cars are parked on the side of the road near a construction site cars are parked on the side of the road near a construction site cars are parked on the side of the road near construction cones cars are parked on the side of the road near a construction site cars are parked on the side of the road near a construction site cars are parked on the side of the road near a construction site\n"
     ]
    }
   ],
   "source": [
    "from transformers import BlipProcessor, BlipForConditionalGeneration\n",
    "import torch\n",
    "from PIL import Image\n",
    "\n",
    "# Load VideoBLIP model and processor\n",
    "processor = BlipProcessor.from_pretrained(\"Salesforce/blip-image-captioning-large\")\n",
    "model = BlipForConditionalGeneration.from_pretrained(\"Salesforce/blip-image-captioning-large\").to(\"cuda\")\n",
    "\n",
    "def describe_frames(frames):\n",
    "    descriptions = []\n",
    "    for frame in frames:\n",
    "        image = Image.fromarray(frame)\n",
    "        inputs = processor(images=image, return_tensors=\"pt\").to(\"cuda\")\n",
    "        description = model.generate(**inputs, max_length=50)\n",
    "        text = processor.batch_decode(description, skip_special_tokens=True)[0]\n",
    "        descriptions.append(text)\n",
    "    return descriptions\n",
    "\n",
    "descriptions = describe_frames(frames)\n",
    "\n",
    "# Combine descriptions into a summary\n",
    "video_description = \" \".join(descriptions)\n",
    "print(\"Detailed Video Description:\", video_description)\n"
   ]
  },
  {
   "cell_type": "code",
   "execution_count": 24,
   "metadata": {
    "colab": {
     "base_uri": "https://localhost:8080/",
     "height": 122
    },
    "executionInfo": {
     "elapsed": 232,
     "status": "ok",
     "timestamp": 1739693585133,
     "user": {
      "displayName": "Hang Liu",
      "userId": "17557702617826436746"
     },
     "user_tz": 480
    },
    "id": "xZNgY12JxmnQ",
    "outputId": "0a3b0356-6ac9-47c0-9ccf-08b4b7371110"
   },
   "outputs": [
    {
     "data": {
      "application/vnd.google.colaboratory.intrinsic+json": {
       "type": "string"
      },
      "text/plain": [
       "'cars are driving down a road with construction cones on both sides cars are driving down a road with construction cones on both sides cars are driving down a road with construction cones on both sides cars are driving down a road with construction cones on both sides cars are driving down a road with construction cones on both sides there is a white car driving down the road with orange cones there is a white car driving down the road with orange cones there is a white car driving down the road with orange cones there is a white car driving down the road with orange cones there is a white car driving down the road with orange cones there is a white car driving down the road with orange cones there is a white car driving down the road with orange cones there is a white car driving down the road with orange cones there is a white car driving down the road with orange cones there is a white car driving down the road with orange cones there is a white car driving down the road with orange cones there is a white car driving down the road with orange cones there is a white car driving down the road with orange cones cars driving down a road with construction cones and a road sign there is a white car driving down the road with orange cones there is a white car driving down the road with orange cones there is a white car driving down the road with orange cones cars driving down a road with construction cones on both sides cars are driving down a road with construction cones on both sides cars are driving down a road with construction cones on both sides cars are driving down a street with construction cones on the side cars are driving down a street with construction cones on the side cars are driving down a road with orange cones on the side cars are parked on the side of the road near a construction site cars are driving down a street with construction cones on the side cars are parked on the side of the road near a construction site cars are parked on the side of the road near a construction site cars are parked on the side of the road near a construction site cars are parked on the side of the road near a construction site cars are driving down a road with construction cones on the side there are many cars driving down the road near a construction site cars are parked on the side of the road near a construction site there are many cars driving down the road near a construction site there are many cars driving down the road with orange cones there are many cars driving down the road with orange cones there are many cars that are driving down the road there are many traffic cones on the side of the road there are many traffic cones on the side of the road there are many cars that are driving down the road there are many cars that are parked on the side of the road there are many cars that are parked on the side of the road there are many cars that are driving down the road cars are parked on the side of the road near a construction site cars are parked on the side of the road near a construction site cars are parked on the side of the road near a construction site cars are parked on the side of the road near a construction site cars are parked on the side of the road near a construction site cars are parked on the side of the road near a construction site cars are parked on the side of the road near a construction site cars are parked on the side of the road near a construction site cars are parked on the side of the road near a construction site cars are parked on the side of the road near construction cones cars are parked on the side of the road near a construction site cars are parked on the side of the road near a construction site cars are parked on the side of the road near a construction site'"
      ]
     },
     "execution_count": 24,
     "metadata": {},
     "output_type": "execute_result"
    }
   ],
   "source": [
    "video_description"
   ]
  },
  {
   "cell_type": "code",
   "execution_count": null,
   "metadata": {
    "executionInfo": {
     "elapsed": 228,
     "status": "ok",
     "timestamp": 1739693587518,
     "user": {
      "displayName": "Hang Liu",
      "userId": "17557702617826436746"
     },
     "user_tz": 480
    },
    "id": "cLIhIqbLgleg"
   },
   "outputs": [],
   "source": [
    "api = 'API'\n",
    "\n",
    "import openai\n",
    "\n",
    "# Set up OpenAI client (replace with your API key)\n",
    "client = openai.OpenAI(api_key=api)\n",
    "\n",
    "# Function to ask OpenAI a question\n",
    "def ask_openai(question, model=\"gpt-4o\"):\n",
    "    response = client.chat.completions.create(\n",
    "        model=model,\n",
    "        messages=[{\"role\": \"user\", \"content\": question}]\n",
    "    )\n",
    "    return response.choices[0].message.content"
   ]
  },
  {
   "cell_type": "code",
   "execution_count": 26,
   "metadata": {
    "colab": {
     "base_uri": "https://localhost:8080/"
    },
    "executionInfo": {
     "elapsed": 992,
     "status": "ok",
     "timestamp": 1739693590884,
     "user": {
      "displayName": "Hang Liu",
      "userId": "17557702617826436746"
     },
     "user_tz": 480
    },
    "id": "Ybfg7nMAxsUl",
    "outputId": "9f8ab359-f8b1-4e2c-e8a6-12a72e80b75e"
   },
   "outputs": [
    {
     "name": "stdout",
     "output_type": "stream",
     "text": [
      "AI: Cars are driving down a road lined with construction cones, and a white car is among them. Many cars are parked on the side near a construction site.\n"
     ]
    }
   ],
   "source": [
    "clean_question = f'can you help to clean this description, get rid of the repeat sentence. make it consice? {video_description}'\n",
    "clean_answer = ask_openai(clean_question)\n",
    "print(\"AI:\", clean_answer)"
   ]
  },
  {
   "cell_type": "code",
   "execution_count": 27,
   "metadata": {
    "executionInfo": {
     "elapsed": 524,
     "status": "ok",
     "timestamp": 1739693592735,
     "user": {
      "displayName": "Hang Liu",
      "userId": "17557702617826436746"
     },
     "user_tz": 480
    },
    "id": "bWFXNSeOyfhv"
   },
   "outputs": [],
   "source": [
    "import pandas as pd\n",
    "\n",
    "tesla_questions = pd.read_csv('/content/drive/MyDrive/tesla/tesla-real-world-video-q-a/questions.csv')\n",
    "tesla_questions = tesla_questions.drop(columns = 'id')"
   ]
  },
  {
   "cell_type": "code",
   "execution_count": 28,
   "metadata": {
    "colab": {
     "base_uri": "https://localhost:8080/",
     "height": 53
    },
    "executionInfo": {
     "elapsed": 245,
     "status": "ok",
     "timestamp": 1739693598222,
     "user": {
      "displayName": "Hang Liu",
      "userId": "17557702617826436746"
     },
     "user_tz": 480
    },
    "id": "PeNKExRJzBq7",
    "outputId": "4dd16074-6bae-4ab8-c352-8cea60a8485a"
   },
   "outputs": [
    {
     "data": {
      "application/vnd.google.colaboratory.intrinsic+json": {
       "type": "string"
      },
      "text/plain": [
       "\"Was ego doing a legal maneuver if its goal is to turn right at the intersection? A. It's legal as the lane is empty. B. It's illegal as the right turn lane is bloacked by construction. C. It's illegal as ego was cutting in other vehicles that were waiting. D. It's legal but the lane ahead is way too narrow for ego to pass.\""
      ]
     },
     "execution_count": 28,
     "metadata": {},
     "output_type": "execute_result"
    }
   ],
   "source": [
    "tesla_questions['question'][0]"
   ]
  },
  {
   "cell_type": "code",
   "execution_count": 30,
   "metadata": {
    "executionInfo": {
     "elapsed": 579,
     "status": "ok",
     "timestamp": 1739693605718,
     "user": {
      "displayName": "Hang Liu",
      "userId": "17557702617826436746"
     },
     "user_tz": 480
    },
    "id": "tf43pYN3yALF"
   },
   "outputs": [],
   "source": [
    "tesla_question = tesla_questions['question'][0]"
   ]
  },
  {
   "cell_type": "code",
   "execution_count": 31,
   "metadata": {
    "colab": {
     "base_uri": "https://localhost:8080/"
    },
    "executionInfo": {
     "elapsed": 1070,
     "status": "ok",
     "timestamp": 1739693608754,
     "user": {
      "displayName": "Hang Liu",
      "userId": "17557702617826436746"
     },
     "user_tz": 480
    },
    "id": "IHzALPwAgshX",
    "outputId": "be280bb5-17a6-458c-8f03-595f09b02a89"
   },
   "outputs": [
    {
     "name": "stdout",
     "output_type": "stream",
     "text": [
      "AI: Based on the scenario described, the best answer would be: B. It's illegal as the right turn lane is blocked by construction.\n"
     ]
    }
   ],
   "source": [
    "# Example usage\n",
    "question = f\"Given the following description i got from a videoblip processor: '{clean_answer}' based on the scenario illustrated in the above text, consider the following question and pick the best ansewer from the choices: '{tesla_question}'\"\n",
    "answer = ask_openai(question)\n",
    "print(\"AI:\", answer)"
   ]
  },
  {
   "cell_type": "markdown",
   "metadata": {
    "id": "8Wyl51ds1_Dg"
   },
   "source": [
    "---"
   ]
  },
  {
   "cell_type": "code",
   "execution_count": null,
   "metadata": {
    "colab": {
     "base_uri": "https://localhost:8080/"
    },
    "executionInfo": {
     "elapsed": 1986151,
     "status": "ok",
     "timestamp": 1739696441566,
     "user": {
      "displayName": "Hang Liu",
      "userId": "17557702617826436746"
     },
     "user_tz": 480
    },
    "id": "t-lAuD8Ng--C",
    "outputId": "f6eb366c-da77-4e8b-9abc-cc4f6cbd3922"
   },
   "outputs": [
    {
     "name": "stdout",
     "output_type": "stream",
     "text": [
      "Processing video 00001...\n",
      "Video 00001: Answer = B.\n",
      "Processing video 00002...\n",
      "Video 00002: Answer = A.\n",
      "Processing video 00003...\n",
      "Video 00003: Answer = D\n",
      "Processing video 00004...\n",
      "Video 00004: Answer = B. Traffic Light.\n",
      "Processing video 00005...\n",
      "Video 00005: Answer = D\n",
      "Processing video 00006...\n",
      "Video 00006: Answer = D.\n",
      "Processing video 00007...\n",
      "Video 00007: Answer = A\n",
      "Processing video 00008...\n",
      "Video 00008: Answer = A\n",
      "Processing video 00009...\n",
      "Video 00009: Answer = A.\n",
      "Processing video 00010...\n",
      "Video 00010: Answer = A. 2.\n",
      "Processing video 00011...\n",
      "Video 00011: Answer = C\n",
      "Processing video 00012...\n",
      "Video 00012: Answer = C\n",
      "Processing video 00013...\n",
      "Video 00013: Answer = E\n",
      "Processing video 00014...\n",
      "Video 00014: Answer = D\n",
      "Processing video 00015...\n",
      "Video 00015: Answer = B\n",
      "Processing video 00016...\n",
      "Video 00016: Answer = D\n",
      "Processing video 00017...\n",
      "Video 00017: Answer = D. Snow.\n",
      "Processing video 00018...\n",
      "Video 00018: Answer = D\n",
      "Processing video 00019...\n",
      "Video 00019: Answer = B. 5 and the right most lane.\n",
      "Processing video 00020...\n",
      "Video 00020: Answer = C\n",
      "Processing video 00021...\n",
      "Video 00021: Answer = B. Bike lane.\n",
      "Processing video 00022...\n",
      "Video 00022: Answer = C\n",
      "Processing video 00023...\n",
      "Video 00023: Answer = B. Green right arrow.\n",
      "Processing video 00024...\n",
      "Video 00024: Answer = D. Green light.\n",
      "Processing video 00025...\n",
      "Video 00025: Answer = C. 5.\n",
      "Processing video 00026...\n",
      "Video 00026: Answer = A.\n",
      "Processing video 00027...\n",
      "Video 00027: Answer = C. 27.\n",
      "Processing video 00028...\n",
      "Video 00028: Answer = C. Insufficient evidence.\n",
      "Processing video 00029...\n",
      "Video 00029: Answer = B\n",
      "Processing video 00030...\n",
      "Video 00030: Answer = B. Go straight.\n",
      "Processing video 00031...\n",
      "Video 00031: Answer = C\n",
      "Processing video 00032...\n",
      "Video 00032: Answer = B\n",
      "Processing video 00033...\n",
      "Video 00033: Answer = D.\n",
      "Processing video 00034...\n",
      "Video 00034: Answer = B. 4.\n",
      "Processing video 00035...\n",
      "Video 00035: Answer = A. Bike lane.\n",
      "Processing video 00036...\n",
      "Video 00036: Answer = A. 0.\n",
      "Processing video 00037...\n",
      "Video 00037: Answer = A\n",
      "Processing video 00038...\n",
      "Video 00038: Answer = C. 2.\n",
      "Processing video 00039...\n",
      "Video 00039: Answer = B.\n",
      "Processing video 00040...\n",
      "Video 00040: Answer = B\n",
      "Processing video 00041...\n",
      "Video 00041: Answer = A\n",
      "Processing video 00042...\n",
      "Video 00042: Answer = B.\n",
      "Processing video 00043...\n",
      "Video 00043: Answer = C. Restaurant.\n",
      "Processing video 00044...\n",
      "Video 00044: Answer = C.\n",
      "Processing video 00045...\n",
      "Video 00045: Answer = D. None of the above.\n",
      "Processing video 00046...\n",
      "Video 00046: Answer = E. None of the above.\n",
      "Processing video 00047...\n",
      "Video 00047: Answer = D\n",
      "Processing video 00048...\n",
      "Video 00048: Answer = D\n",
      "Processing video 00049...\n",
      "Video 00049: Answer = A\n",
      "Processing video 00050...\n",
      "Video 00050: Answer = D\n",
      "   id                        answer\n",
      "00001                            B.\n",
      "00002                            A.\n",
      "00003                             D\n",
      "00004             B. Traffic Light.\n",
      "00005                             D\n",
      "00006                            D.\n",
      "00007                             A\n",
      "00008                             A\n",
      "00009                            A.\n",
      "00010                         A. 2.\n",
      "00011                             C\n",
      "00012                             C\n",
      "00013                             E\n",
      "00014                             D\n",
      "00015                             B\n",
      "00016                             D\n",
      "00017                      D. Snow.\n",
      "00018                             D\n",
      "00019 B. 5 and the right most lane.\n",
      "00020                             C\n",
      "00021                 B. Bike lane.\n",
      "00022                             C\n",
      "00023         B. Green right arrow.\n",
      "00024               D. Green light.\n",
      "00025                         C. 5.\n",
      "00026                            A.\n",
      "00027                        C. 27.\n",
      "00028     C. Insufficient evidence.\n",
      "00029                             B\n",
      "00030               B. Go straight.\n",
      "00031                             C\n",
      "00032                             B\n",
      "00033                            D.\n",
      "00034                         B. 4.\n",
      "00035                 A. Bike lane.\n",
      "00036                         A. 0.\n",
      "00037                             A\n",
      "00038                         C. 2.\n",
      "00039                            B.\n",
      "00040                             B\n",
      "00041                             A\n",
      "00042                            B.\n",
      "00043                C. Restaurant.\n",
      "00044                            C.\n",
      "00045         D. None of the above.\n",
      "00046         E. None of the above.\n",
      "00047                             D\n",
      "00048                             D\n",
      "00049                             A\n",
      "00050                             D\n"
     ]
    }
   ],
   "source": [
    "# integrated\n",
    "import torch\n",
    "from PIL import Image\n",
    "import pandas as pd\n",
    "import openai\n",
    "from transformers import BlipProcessor, BlipForConditionalGeneration\n",
    "import cv2\n",
    "import os\n",
    "import re\n",
    "\n",
    "class VideoQAProcessor:\n",
    "    def __init__(self, api_key, questions_path):\n",
    "        # Initialize OpenAI\n",
    "        self.client = openai.OpenAI(api_key=api_key)\n",
    "\n",
    "        # Initialize BLIP\n",
    "        self.processor = BlipProcessor.from_pretrained(\"Salesforce/blip-image-captioning-large\")\n",
    "        self.model = BlipForConditionalGeneration.from_pretrained(\"Salesforce/blip-image-captioning-large\").to(\"cuda\")\n",
    "\n",
    "        # Load questions\n",
    "        self.questions_df = pd.read_csv(questions_path)\n",
    "        self.questions_df = self.questions_df.drop(columns='id')\n",
    "\n",
    "    def extract_frames(self, video_path, frame_rate=5):\n",
    "        cap = cv2.VideoCapture(video_path)\n",
    "        frame_list = []\n",
    "        fps = cap.get(cv2.CAP_PROP_FPS)\n",
    "        frame_interval = int(fps / frame_rate)\n",
    "\n",
    "        frame_count = 0\n",
    "        while cap.isOpened():\n",
    "            ret, frame = cap.read()\n",
    "            if not ret:\n",
    "                break\n",
    "            if frame_count % frame_interval == 0:\n",
    "                frame_rgb = cv2.cvtColor(frame, cv2.COLOR_BGR2RGB)\n",
    "                frame_list.append(frame_rgb)\n",
    "            frame_count += 1\n",
    "        cap.release()\n",
    "        return frame_list\n",
    "\n",
    "    def describe_frames(self, frames):\n",
    "        descriptions = []\n",
    "        for frame in frames:\n",
    "            image = Image.fromarray(frame)\n",
    "            inputs = self.processor(images=image, return_tensors=\"pt\").to(\"cuda\")\n",
    "            description = self.model.generate(**inputs, max_length=50)\n",
    "            text = self.processor.batch_decode(description, skip_special_tokens=True)[0]\n",
    "            descriptions.append(text)\n",
    "        return \" \".join(descriptions)\n",
    "\n",
    "    def clean_description(self, description):\n",
    "        question = f\"Can you help to clean this description, get rid of the repeat sentences and make it concise? {description}\"\n",
    "        response = self.client.chat.completions.create(\n",
    "            model=\"gpt-4o\",\n",
    "            messages=[{\"role\": \"user\", \"content\": question}]\n",
    "        )\n",
    "        return response.choices[0].message.content\n",
    "\n",
    "    def get_answer(self, description, question):\n",
    "        prompt = f\"Given the following description from a video: '{description}' based on the scenario illustrated in the above text, consider the following question and pick the best answer from the choices. Just return the single letter choice (A, B, C, D, or E): '{question}'\"\n",
    "        response = self.client.chat.completions.create(\n",
    "            model=\"gpt-4o\",\n",
    "            messages=[{\"role\": \"user\", \"content\": prompt}]\n",
    "        )\n",
    "        return response.choices[0].message.content.strip()\n",
    "\n",
    "    def clean_answer(self, answer):\n",
    "        # Extract just the letter answer using regex\n",
    "        match = re.search(r'[A-E]', answer)\n",
    "        return match.group(0) if match else answer\n",
    "\n",
    "    def process_video(self, video_path):\n",
    "        # Extract frames\n",
    "        frames = self.extract_frames(video_path)\n",
    "\n",
    "        # Get video description\n",
    "        raw_description = self.describe_frames(frames)\n",
    "        clean_description = self.clean_description(raw_description)\n",
    "        return clean_description\n",
    "\n",
    "    def input_to_chat(self, clean_description, video_id)\n",
    "        # Get answer for the corresponding question\n",
    "        question = self.questions_df.loc[int(video_id) - 1, 'question']\n",
    "        answer = self.get_answer(clean_description, question)\n",
    "        clean_answer = self.clean_answer(answer)\n",
    "\n",
    "        return clean_answer\n",
    "\n",
    "def process_all_videos(videos_dir, output_path, api_key, questions_path):\n",
    "    # Initialize processor\n",
    "    processor = VideoQAProcessor(api_key, questions_path)\n",
    "\n",
    "    # Initialize results list\n",
    "    results = []\n",
    "\n",
    "    # Process each video\n",
    "    sample = 51\n",
    "    test = 252\n",
    "    for i in range(1, sample):  # Process videos 00001 to 00050\n",
    "        video_id = f\"{i:05d}\"  # Format to 5 digits with leading zeros\n",
    "        video_path = os.path.join(videos_dir, f\"{video_id}.mp4\")\n",
    "\n",
    "        if os.path.exists(video_path):\n",
    "            print(f\"Processing video {video_id}...\")\n",
    "            try:\n",
    "                clean_description = processor.process_video(video_path)\n",
    "                # answer = processor.input_to_chat(clean_description, video_id)\n",
    "                # results.append({'id': video_id, 'answer': answer})\n",
    "                results.append({'id': video_id, 'clean_description': clean_description})\n",
    "                print(f\"Video {video_id}: Answer = {answer}\")\n",
    "            except Exception as e:\n",
    "                print(f\"Error processing video {video_id}: {str(e)}\")\n",
    "\n",
    "    # Create and save DataFrame\n",
    "    df = pd.DataFrame(results)\n",
    "    # df.to_csv(output_path, index=False)\n",
    "\n",
    "    return df\n",
    "\n",
    "# Example usage\n",
    "api_key = 'API'\n",
    "videos_dir = \"/content/drive/MyDrive/tesla/tesla-real-world-video-q-a/videos/videos\"\n",
    "questions_path = \"/content/drive/MyDrive/tesla/tesla-real-world-video-q-a/questions.csv\"\n",
    "# output_path = \"tesla_answers.csv\"\n",
    "output_path = \"clean_descriptions.csv\"\n",
    "\n",
    "\n",
    "df = process_all_videos(videos_dir, output_path, api_key, questions_path)\n",
    "print(df.to_string(index=False))"
   ]
  },
  {
   "cell_type": "code",
   "execution_count": 37,
   "metadata": {
    "executionInfo": {
     "elapsed": 521,
     "status": "ok",
     "timestamp": 1739696610104,
     "user": {
      "displayName": "Hang Liu",
      "userId": "17557702617826436746"
     },
     "user_tz": 480
    },
    "id": "UmCBY9Cl_pj1"
   },
   "outputs": [],
   "source": [
    "def clean_answer(answer):\n",
    "    # Extract just the letter answer using regex\n",
    "    import re\n",
    "    match = re.search(r'[A-E]', answer)\n",
    "    return match.group(0) if match else answer\n",
    "\n",
    "# Apply to your DataFrame\n",
    "df['answer'] = df['answer'].apply(clean_answer)"
   ]
  },
  {
   "cell_type": "code",
   "execution_count": 39,
   "metadata": {
    "executionInfo": {
     "elapsed": 548,
     "status": "ok",
     "timestamp": 1739696687438,
     "user": {
      "displayName": "Hang Liu",
      "userId": "17557702617826436746"
     },
     "user_tz": 480
    },
    "id": "Pl04R_z_AJbO"
   },
   "outputs": [],
   "source": [
    "\n"
   ]
  },
  {
   "cell_type": "markdown",
   "metadata": {
    "id": "ABRFhZEugtB5"
   },
   "source": [
    "---"
   ]
  }
 ],
 "metadata": {
  "accelerator": "GPU",
  "colab": {
   "gpuType": "T4",
   "provenance": []
  },
  "kernelspec": {
   "display_name": "Python 3",
   "name": "python3"
  },
  "language_info": {
   "codemirror_mode": {
    "name": "ipython",
    "version": 3
   },
   "file_extension": ".py",
   "mimetype": "text/x-python",
   "name": "python",
   "nbconvert_exporter": "python",
   "pygments_lexer": "ipython3",
   "version": "3.12.5"
  }
 },
 "nbformat": 4,
 "nbformat_minor": 0
}
